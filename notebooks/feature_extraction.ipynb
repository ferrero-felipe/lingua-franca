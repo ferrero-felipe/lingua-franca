{
 "cells": [
  {
   "cell_type": "code",
   "execution_count": 1,
   "metadata": {},
   "outputs": [],
   "source": [
    "import warnings\n",
    "warnings.filterwarnings('ignore')\n",
    "from pydub import AudioSegment\n",
    "import pandas as pd\n",
    "import os\n",
    "from scipy.fftpack import fft"
   ]
  },
  {
   "cell_type": "code",
   "execution_count": 2,
   "metadata": {},
   "outputs": [],
   "source": [
    "def getFiles(directory,typ='.mp3'):\n",
    "    for file in os.listdir(directory):\n",
    "        if file.endswith(typ):\n",
    "            yield('{}/{}'.format(directory,file))\n",
    "        else:\n",
    "            continue"
   ]
  },
  {
   "cell_type": "code",
   "execution_count": 3,
   "metadata": {},
   "outputs": [],
   "source": [
    "def splitFile(audio,len_miliseconds=5000):\n",
    "    chunks = {}\n",
    "    for i in range(len(audio)//len_miliseconds):\n",
    "        chunks[i] = audio[i*len_miliseconds:(i+1)*len_miliseconds].get_array_of_samples()\n",
    "    return chunks"
   ]
  },
  {
   "cell_type": "code",
   "execution_count": 4,
   "metadata": {},
   "outputs": [],
   "source": [
    "def getFFT(dictionary,n=500):\n",
    "    chunks = {}\n",
    "    for i, data in dictionary.items():\n",
    "        chunks[i] = pd.Series(fft(data,n))\n",
    "    return pd.DataFrame(chunks).T"
   ]
  },
  {
   "cell_type": "code",
   "execution_count": 5,
   "metadata": {},
   "outputs": [],
   "source": [
    "db = pd.DataFrame()\n",
    "for lang in os.listdir('../data/'):\n",
    "    for file in getFiles('../data/{}'.format(lang)):\n",
    "        audio = AudioSegment.from_mp3(file)\n",
    "        chunks = splitFile(audio)\n",
    "        chunks_fft = getFFT(chunks,n=1000)\n",
    "        chunks_fft['lang'] = lang\n",
    "        db = pd.concat([db,chunks_fft])\n",
    "db.index.name = 'Id'"
   ]
  },
  {
   "cell_type": "code",
   "execution_count": 6,
   "metadata": {
    "scrolled": true
   },
   "outputs": [],
   "source": [
    "db.to_csv('db.csv')"
   ]
  }
 ],
 "metadata": {
  "kernelspec": {
   "display_name": "Python 3",
   "language": "python",
   "name": "python3"
  },
  "language_info": {
   "codemirror_mode": {
    "name": "ipython",
    "version": 3
   },
   "file_extension": ".py",
   "mimetype": "text/x-python",
   "name": "python",
   "nbconvert_exporter": "python",
   "pygments_lexer": "ipython3",
   "version": "3.7.4"
  }
 },
 "nbformat": 4,
 "nbformat_minor": 2
}
