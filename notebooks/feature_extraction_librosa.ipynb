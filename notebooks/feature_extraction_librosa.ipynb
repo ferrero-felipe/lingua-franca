{
 "cells": [
  {
   "cell_type": "code",
   "execution_count": 85,
   "metadata": {},
   "outputs": [],
   "source": [
    "import warnings\n",
    "warnings.filterwarnings('ignore')\n",
    "import librosa\n",
    "import pandas as pd\n",
    "import numpy as np\n",
    "import os\n",
    "from scipy.fftpack import fft"
   ]
  },
  {
   "cell_type": "code",
   "execution_count": 2,
   "metadata": {},
   "outputs": [],
   "source": [
    "def getFiles(directory,typ='.mp3'):\n",
    "    for file in os.listdir(directory):\n",
    "        if file.endswith(typ):\n",
    "            yield('{}/{}'.format(directory,file))\n",
    "        else:\n",
    "            continue"
   ]
  },
  {
   "cell_type": "code",
   "execution_count": 54,
   "metadata": {},
   "outputs": [],
   "source": [
    "def getAudio(file):\n",
    "    data, sampling_rate = librosa.load(file,res_type='kaiser_fast')\n",
    "    return data, sampling_rate"
   ]
  },
  {
   "cell_type": "code",
   "execution_count": 77,
   "metadata": {},
   "outputs": [],
   "source": [
    "df = pd.DataFrame(columns=['lang','data','sample_rate'])\n",
    "for lang in os.listdir('../data/samples'):\n",
    "    for file in getFiles('../data/samples/{}'.format(lang)):\n",
    "        data, sample_rate = getAudio(file)\n",
    "        df = df.append({'data':data,'lang':lang,'sample_rate':sample_rate}, ignore_index=True)"
   ]
  },
  {
   "cell_type": "code",
   "execution_count": 78,
   "metadata": {},
   "outputs": [
    {
     "data": {
      "text/html": [
       "<div>\n",
       "<style scoped>\n",
       "    .dataframe tbody tr th:only-of-type {\n",
       "        vertical-align: middle;\n",
       "    }\n",
       "\n",
       "    .dataframe tbody tr th {\n",
       "        vertical-align: top;\n",
       "    }\n",
       "\n",
       "    .dataframe thead th {\n",
       "        text-align: right;\n",
       "    }\n",
       "</style>\n",
       "<table border=\"1\" class=\"dataframe\">\n",
       "  <thead>\n",
       "    <tr style=\"text-align: right;\">\n",
       "      <th></th>\n",
       "      <th>lang</th>\n",
       "      <th>data</th>\n",
       "      <th>sample_rate</th>\n",
       "    </tr>\n",
       "  </thead>\n",
       "  <tbody>\n",
       "    <tr>\n",
       "      <td>0</td>\n",
       "      <td>es_es</td>\n",
       "      <td>[-0.007209771, -0.015356427, -0.017537486, -0....</td>\n",
       "      <td>22050</td>\n",
       "    </tr>\n",
       "    <tr>\n",
       "      <td>1</td>\n",
       "      <td>es_es</td>\n",
       "      <td>[0.012138898, 0.01150092, 0.0029381728, 0.0010...</td>\n",
       "      <td>22050</td>\n",
       "    </tr>\n",
       "    <tr>\n",
       "      <td>2</td>\n",
       "      <td>es_es</td>\n",
       "      <td>[-0.00045351504, 0.0035464, 0.008936057, 0.009...</td>\n",
       "      <td>22050</td>\n",
       "    </tr>\n",
       "    <tr>\n",
       "      <td>3</td>\n",
       "      <td>es_es</td>\n",
       "      <td>[0.013188994, 0.044150613, 0.06276652, 0.06152...</td>\n",
       "      <td>22050</td>\n",
       "    </tr>\n",
       "    <tr>\n",
       "      <td>4</td>\n",
       "      <td>es_es</td>\n",
       "      <td>[-0.022270145, -0.03373612, -0.03162274, -0.03...</td>\n",
       "      <td>22050</td>\n",
       "    </tr>\n",
       "  </tbody>\n",
       "</table>\n",
       "</div>"
      ],
      "text/plain": [
       "    lang                                               data sample_rate\n",
       "0  es_es  [-0.007209771, -0.015356427, -0.017537486, -0....       22050\n",
       "1  es_es  [0.012138898, 0.01150092, 0.0029381728, 0.0010...       22050\n",
       "2  es_es  [-0.00045351504, 0.0035464, 0.008936057, 0.009...       22050\n",
       "3  es_es  [0.013188994, 0.044150613, 0.06276652, 0.06152...       22050\n",
       "4  es_es  [-0.022270145, -0.03373612, -0.03162274, -0.03...       22050"
      ]
     },
     "execution_count": 78,
     "metadata": {},
     "output_type": "execute_result"
    }
   ],
   "source": [
    "df.head()"
   ]
  },
  {
   "cell_type": "code",
   "execution_count": 80,
   "metadata": {},
   "outputs": [],
   "source": [
    "def getMFCC(row):\n",
    "    mfccs = np.mean(librosa.feature.mfcc(y=row['data'], sr=row['sample_rate'], n_mfcc=40).T,axis=0) \n",
    "    return mfccs"
   ]
  },
  {
   "cell_type": "code",
   "execution_count": 84,
   "metadata": {},
   "outputs": [],
   "source": [
    "df['mfcc'] = df[['data','sample_rate']].apply(getMFCC,axis=1)"
   ]
  },
  {
   "cell_type": "code",
   "execution_count": 91,
   "metadata": {},
   "outputs": [],
   "source": [
    "def getFFT(data,n=500):\n",
    "    feature = fft(data,n)\n",
    "    return feature"
   ]
  },
  {
   "cell_type": "code",
   "execution_count": 92,
   "metadata": {},
   "outputs": [],
   "source": [
    "df['fft'] = df['data'].apply(lambda x: getFFT(x))"
   ]
  },
  {
   "cell_type": "code",
   "execution_count": 111,
   "metadata": {},
   "outputs": [],
   "source": [
    "def getFeatureVector(row):\n",
    "    vector = np.concatenate([row['mfcc'],row['fft']]) \n",
    "    return vector"
   ]
  },
  {
   "cell_type": "code",
   "execution_count": 114,
   "metadata": {},
   "outputs": [],
   "source": [
    "df['feature_vector'] = df[['mfcc','fft']].apply(getFeatureVector,axis=1)"
   ]
  },
  {
   "cell_type": "code",
   "execution_count": 115,
   "metadata": {},
   "outputs": [
    {
     "data": {
      "text/html": [
       "<div>\n",
       "<style scoped>\n",
       "    .dataframe tbody tr th:only-of-type {\n",
       "        vertical-align: middle;\n",
       "    }\n",
       "\n",
       "    .dataframe tbody tr th {\n",
       "        vertical-align: top;\n",
       "    }\n",
       "\n",
       "    .dataframe thead th {\n",
       "        text-align: right;\n",
       "    }\n",
       "</style>\n",
       "<table border=\"1\" class=\"dataframe\">\n",
       "  <thead>\n",
       "    <tr style=\"text-align: right;\">\n",
       "      <th></th>\n",
       "      <th>lang</th>\n",
       "      <th>data</th>\n",
       "      <th>sample_rate</th>\n",
       "      <th>mfcc</th>\n",
       "      <th>fft</th>\n",
       "      <th>feature_vector</th>\n",
       "    </tr>\n",
       "  </thead>\n",
       "  <tbody>\n",
       "    <tr>\n",
       "      <td>0</td>\n",
       "      <td>es_es</td>\n",
       "      <td>[-0.007209771, -0.015356427, -0.017537486, -0....</td>\n",
       "      <td>22050</td>\n",
       "      <td>[-285.23434, 175.89645, -36.257664, 7.9942393,...</td>\n",
       "      <td>[(-0.07016978+0j), (-0.1587303+0.07867816j), (...</td>\n",
       "      <td>[(-285.23434+0j), (175.89645+0j), (-36.257664+...</td>\n",
       "    </tr>\n",
       "    <tr>\n",
       "      <td>1</td>\n",
       "      <td>es_es</td>\n",
       "      <td>[0.012138898, 0.01150092, 0.0029381728, 0.0010...</td>\n",
       "      <td>22050</td>\n",
       "      <td>[-263.13785, 115.42601, -22.563814, 15.244263,...</td>\n",
       "      <td>[(-2.407087+0j), (-2.1254783-0.3098814j), (-2....</td>\n",
       "      <td>[(-263.13785+0j), (115.42601+0j), (-22.563814+...</td>\n",
       "    </tr>\n",
       "    <tr>\n",
       "      <td>2</td>\n",
       "      <td>es_es</td>\n",
       "      <td>[-0.00045351504, 0.0035464, 0.008936057, 0.009...</td>\n",
       "      <td>22050</td>\n",
       "      <td>[-241.6804, 142.95016, -13.561164, 32.493755, ...</td>\n",
       "      <td>[(-2.515686+0j), (-4.0788665-1.4216757j), (-10...</td>\n",
       "      <td>[(-241.6804+0j), (142.95016+0j), (-13.561164+0...</td>\n",
       "    </tr>\n",
       "    <tr>\n",
       "      <td>3</td>\n",
       "      <td>es_es</td>\n",
       "      <td>[0.013188994, 0.044150613, 0.06276652, 0.06152...</td>\n",
       "      <td>22050</td>\n",
       "      <td>[-194.5256, 92.64716, -25.009928, 41.915436, -...</td>\n",
       "      <td>[(-1.4095415+0j), (-1.0262144+0.0716005j), (-2...</td>\n",
       "      <td>[(-194.5256+0j), (92.64716+0j), (-25.009928+0j...</td>\n",
       "    </tr>\n",
       "    <tr>\n",
       "      <td>4</td>\n",
       "      <td>es_es</td>\n",
       "      <td>[-0.022270145, -0.03373612, -0.03162274, -0.03...</td>\n",
       "      <td>22050</td>\n",
       "      <td>[-305.53488, 134.97104, -9.31721, 14.267323, -...</td>\n",
       "      <td>[(-0.10506569+0j), (-0.5140722+9.7117154e-05j)...</td>\n",
       "      <td>[(-305.53488+0j), (134.97104+0j), (-9.31721+0j...</td>\n",
       "    </tr>\n",
       "  </tbody>\n",
       "</table>\n",
       "</div>"
      ],
      "text/plain": [
       "    lang                                               data sample_rate  \\\n",
       "0  es_es  [-0.007209771, -0.015356427, -0.017537486, -0....       22050   \n",
       "1  es_es  [0.012138898, 0.01150092, 0.0029381728, 0.0010...       22050   \n",
       "2  es_es  [-0.00045351504, 0.0035464, 0.008936057, 0.009...       22050   \n",
       "3  es_es  [0.013188994, 0.044150613, 0.06276652, 0.06152...       22050   \n",
       "4  es_es  [-0.022270145, -0.03373612, -0.03162274, -0.03...       22050   \n",
       "\n",
       "                                                mfcc  \\\n",
       "0  [-285.23434, 175.89645, -36.257664, 7.9942393,...   \n",
       "1  [-263.13785, 115.42601, -22.563814, 15.244263,...   \n",
       "2  [-241.6804, 142.95016, -13.561164, 32.493755, ...   \n",
       "3  [-194.5256, 92.64716, -25.009928, 41.915436, -...   \n",
       "4  [-305.53488, 134.97104, -9.31721, 14.267323, -...   \n",
       "\n",
       "                                                 fft  \\\n",
       "0  [(-0.07016978+0j), (-0.1587303+0.07867816j), (...   \n",
       "1  [(-2.407087+0j), (-2.1254783-0.3098814j), (-2....   \n",
       "2  [(-2.515686+0j), (-4.0788665-1.4216757j), (-10...   \n",
       "3  [(-1.4095415+0j), (-1.0262144+0.0716005j), (-2...   \n",
       "4  [(-0.10506569+0j), (-0.5140722+9.7117154e-05j)...   \n",
       "\n",
       "                                      feature_vector  \n",
       "0  [(-285.23434+0j), (175.89645+0j), (-36.257664+...  \n",
       "1  [(-263.13785+0j), (115.42601+0j), (-22.563814+...  \n",
       "2  [(-241.6804+0j), (142.95016+0j), (-13.561164+0...  \n",
       "3  [(-194.5256+0j), (92.64716+0j), (-25.009928+0j...  \n",
       "4  [(-305.53488+0j), (134.97104+0j), (-9.31721+0j...  "
      ]
     },
     "execution_count": 115,
     "metadata": {},
     "output_type": "execute_result"
    }
   ],
   "source": [
    "df.head()"
   ]
  },
  {
   "cell_type": "code",
   "execution_count": 116,
   "metadata": {},
   "outputs": [],
   "source": [
    "df.to_pickle('sound_db.pkl')"
   ]
  }
 ],
 "metadata": {
  "kernelspec": {
   "display_name": "Python 3",
   "language": "python",
   "name": "python3"
  },
  "language_info": {
   "codemirror_mode": {
    "name": "ipython",
    "version": 3
   },
   "file_extension": ".py",
   "mimetype": "text/x-python",
   "name": "python",
   "nbconvert_exporter": "python",
   "pygments_lexer": "ipython3",
   "version": "3.7.4"
  }
 },
 "nbformat": 4,
 "nbformat_minor": 2
}
