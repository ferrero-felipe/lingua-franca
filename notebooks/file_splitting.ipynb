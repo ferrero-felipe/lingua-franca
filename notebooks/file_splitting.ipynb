{
 "cells": [
  {
   "cell_type": "code",
   "execution_count": 3,
   "metadata": {},
   "outputs": [],
   "source": [
    "import warnings\n",
    "warnings.filterwarnings('ignore')\n",
    "from pydub import AudioSegment\n",
    "import os"
   ]
  },
  {
   "cell_type": "code",
   "execution_count": 2,
   "metadata": {},
   "outputs": [],
   "source": [
    "def getFiles(directory,typ='.mp3'):\n",
    "    for file in os.listdir(directory):\n",
    "        if file.endswith(typ):\n",
    "            yield('{}/{}'.format(directory,file))\n",
    "        else:\n",
    "            continue"
   ]
  },
  {
   "cell_type": "code",
   "execution_count": 20,
   "metadata": {},
   "outputs": [],
   "source": [
    "def splitFile(audio,len_miliseconds=5000):\n",
    "    for i in range(len(audio)//len_miliseconds):\n",
    "        chunks = audio[i*len_miliseconds:(i+1)*len_miliseconds]\n",
    "        yield chunks,i"
   ]
  },
  {
   "cell_type": "code",
   "execution_count": 23,
   "metadata": {},
   "outputs": [
    {
     "name": "stdout",
     "output_type": "stream",
     "text": [
      "Spliting en_uk\n",
      "Spliting es_es\n",
      "Spliting fr\n",
      "Spliting sv\n",
      "Spliting pt_br\n",
      "Spliting en_us\n"
     ]
    }
   ],
   "source": [
    "for lang in os.listdir('../data/'):\n",
    "    print('Spliting {}'.format(lang))\n",
    "    for file in getFiles('../data/{}'.format(lang)):\n",
    "        audio = AudioSegment.from_mp3(file)\n",
    "        for chunks,i in splitFile(audio):\n",
    "            if not os.path.exists(\"../data/samples/{0}\".format(lang)):\n",
    "                os.makedirs(\"../data/samples/{0}\".format(lang))\n",
    "            chunks.export(\"../data/samples/{0}/{0}_{1}_{2}.mp3\".format(lang,file[-6:-4],i), format=\"mp3\")"
   ]
  }
 ],
 "metadata": {
  "kernelspec": {
   "display_name": "Python 3",
   "language": "python",
   "name": "python3"
  },
  "language_info": {
   "codemirror_mode": {
    "name": "ipython",
    "version": 3
   },
   "file_extension": ".py",
   "mimetype": "text/x-python",
   "name": "python",
   "nbconvert_exporter": "python",
   "pygments_lexer": "ipython3",
   "version": "3.7.4"
  }
 },
 "nbformat": 4,
 "nbformat_minor": 2
}
